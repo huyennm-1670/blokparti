{
 "cells": [
  {
   "cell_type": "code",
   "execution_count": 50,
   "metadata": {},
   "outputs": [],
   "source": [
    "import numpy as np\n",
    "import pandas as pd\n",
    "import json\n",
    "from pandas import json_normalize\n",
    "from IPython.display import display\n",
    "pd.set_option('display.max_rows', 500)\n",
    "pd.set_option('display.max_columns', 500)\n",
    "pd.set_option('display.width', 1000)\n",
    "\n",
    "df = pd.read_json(\"results-20211210-150638.json\", orient=\"records\", convert_dates=[\"event_timestamp\", \"event_date\"])"
   ]
  },
  {
   "cell_type": "code",
   "execution_count": 51,
   "metadata": {},
   "outputs": [],
   "source": [
    "def flatten_nested_json_df(df):\n",
    "\n",
    "    df = df.reset_index()\n",
    "\n",
    "    print(f\"original shape: {df.shape}\")\n",
    "    print(f\"original columns: {df.columns}\")\n",
    "\n",
    "\n",
    "    # search for columns to explode/flatten\n",
    "    s = (df.applymap(type) == list).all()\n",
    "    list_columns = s[s].index.tolist()\n",
    "\n",
    "    s = (df.applymap(type) == dict).all()\n",
    "    dict_columns = s[s].index.tolist()\n",
    "\n",
    "    print(f\"lists: {list_columns}, dicts: {dict_columns}\")\n",
    "    while len(list_columns) > 0 or len(dict_columns) > 0:\n",
    "        new_columns = []\n",
    "\n",
    "        for col in dict_columns:\n",
    "            print(f\"flattening: {col}\")\n",
    "            # explode dictionaries horizontally, adding new columns\n",
    "            horiz_exploded = pd.json_normalize(df[col]).add_prefix(f'{col}.')\n",
    "            horiz_exploded.index = df.index\n",
    "            df = pd.concat([df, horiz_exploded], axis=1).drop(columns=[col])\n",
    "            new_columns.extend(horiz_exploded.columns) # inplace\n",
    "\n",
    "        for col in list_columns:\n",
    "            print(f\"exploding: {col}\")\n",
    "            # explode lists vertically, adding new columns\n",
    "            df = df.drop(columns=[col]).join(df[col].explode().to_frame())\n",
    "            new_columns.append(col)\n",
    "\n",
    "        # check if there are still dict o list fields to flatten\n",
    "        s = (df[new_columns].applymap(type) == list).all()\n",
    "        list_columns = s[s].index.tolist()\n",
    "\n",
    "        s = (df[new_columns].applymap(type) == dict).all()\n",
    "        dict_columns = s[s].index.tolist()\n",
    "\n",
    "        print(f\"lists: {list_columns}, dicts: {dict_columns}\")\n",
    "\n",
    "    print(f\"final shape: {df.shape}\")\n",
    "    print(f\"final columns: {df.columns}\")\n",
    "    return df"
   ]
  },
  {
   "cell_type": "code",
   "execution_count": 52,
   "metadata": {},
   "outputs": [
    {
     "name": "stdout",
     "output_type": "stream",
     "text": [
      "original shape: (3819, 8)\n",
      "original columns: Index(['index', 'user_id', 'event_date', 'event_name', 'event_timestamp', 'event_params', 'operating_system', 'country'], dtype='object')\n",
      "lists: ['event_params'], dicts: []\n",
      "exploding: event_params\n",
      "lists: [], dicts: ['event_params']\n",
      "flattening: event_params\n",
      "lists: [], dicts: []\n",
      "final shape: (36301, 12)\n",
      "final columns: Index(['index', 'user_id', 'event_date', 'event_name', 'event_timestamp', 'operating_system', 'country', 'event_params.key', 'event_params.value.string_value', 'event_params.value.int_value', 'event_params.value.float_value', 'event_params.value.double_value'], dtype='object')\n"
     ]
    }
   ],
   "source": [
    "dff = pd.DataFrame()\n",
    "\n",
    "d = flatten_nested_json_df(df)"
   ]
  },
  {
   "cell_type": "code",
   "execution_count": 53,
   "metadata": {},
   "outputs": [
    {
     "data": {
      "text/html": [
       "<div>\n",
       "<style scoped>\n",
       "    .dataframe tbody tr th:only-of-type {\n",
       "        vertical-align: middle;\n",
       "    }\n",
       "\n",
       "    .dataframe tbody tr th {\n",
       "        vertical-align: top;\n",
       "    }\n",
       "\n",
       "    .dataframe thead th {\n",
       "        text-align: right;\n",
       "    }\n",
       "</style>\n",
       "<table border=\"1\" class=\"dataframe\">\n",
       "  <thead>\n",
       "    <tr style=\"text-align: right;\">\n",
       "      <th></th>\n",
       "      <th>index</th>\n",
       "      <th>user_id</th>\n",
       "      <th>event_date</th>\n",
       "      <th>event_name</th>\n",
       "      <th>event_timestamp</th>\n",
       "      <th>operating_system</th>\n",
       "      <th>country</th>\n",
       "      <th>event_params.key</th>\n",
       "      <th>event_params.value.string_value</th>\n",
       "      <th>event_params.value.int_value</th>\n",
       "      <th>event_params.value.float_value</th>\n",
       "      <th>event_params.value.double_value</th>\n",
       "    </tr>\n",
       "  </thead>\n",
       "  <tbody>\n",
       "    <tr>\n",
       "      <th>0</th>\n",
       "      <td>0</td>\n",
       "      <td>Rosie</td>\n",
       "      <td>20211126</td>\n",
       "      <td>notification_receive</td>\n",
       "      <td>2021-11-26 04:11:40.117</td>\n",
       "      <td>Android</td>\n",
       "      <td>Vietnam</td>\n",
       "      <td>firebase_event_origin</td>\n",
       "      <td>fcm</td>\n",
       "      <td>None</td>\n",
       "      <td>None</td>\n",
       "      <td>None</td>\n",
       "    </tr>\n",
       "    <tr>\n",
       "      <th>0</th>\n",
       "      <td>0</td>\n",
       "      <td>Rosie</td>\n",
       "      <td>20211126</td>\n",
       "      <td>notification_receive</td>\n",
       "      <td>2021-11-26 04:11:40.117</td>\n",
       "      <td>Android</td>\n",
       "      <td>Vietnam</td>\n",
       "      <td>message_type</td>\n",
       "      <td>display</td>\n",
       "      <td>None</td>\n",
       "      <td>None</td>\n",
       "      <td>None</td>\n",
       "    </tr>\n",
       "    <tr>\n",
       "      <th>1</th>\n",
       "      <td>1</td>\n",
       "      <td>Rosie</td>\n",
       "      <td>20211126</td>\n",
       "      <td>notification_receive</td>\n",
       "      <td>2021-11-26 07:37:29.662</td>\n",
       "      <td>Android</td>\n",
       "      <td>Vietnam</td>\n",
       "      <td>firebase_event_origin</td>\n",
       "      <td>fcm</td>\n",
       "      <td>None</td>\n",
       "      <td>None</td>\n",
       "      <td>None</td>\n",
       "    </tr>\n",
       "    <tr>\n",
       "      <th>1</th>\n",
       "      <td>1</td>\n",
       "      <td>Rosie</td>\n",
       "      <td>20211126</td>\n",
       "      <td>notification_receive</td>\n",
       "      <td>2021-11-26 07:37:29.662</td>\n",
       "      <td>Android</td>\n",
       "      <td>Vietnam</td>\n",
       "      <td>message_type</td>\n",
       "      <td>display</td>\n",
       "      <td>None</td>\n",
       "      <td>None</td>\n",
       "      <td>None</td>\n",
       "    </tr>\n",
       "    <tr>\n",
       "      <th>2</th>\n",
       "      <td>2</td>\n",
       "      <td>lucluck</td>\n",
       "      <td>20211126</td>\n",
       "      <td>notification_receive</td>\n",
       "      <td>2021-11-26 02:30:19.792</td>\n",
       "      <td>Android</td>\n",
       "      <td>Vietnam</td>\n",
       "      <td>message_type</td>\n",
       "      <td>display</td>\n",
       "      <td>None</td>\n",
       "      <td>None</td>\n",
       "      <td>None</td>\n",
       "    </tr>\n",
       "  </tbody>\n",
       "</table>\n",
       "</div>"
      ],
      "text/plain": [
       "   index  user_id  event_date            event_name         event_timestamp operating_system  country       event_params.key event_params.value.string_value event_params.value.int_value event_params.value.float_value event_params.value.double_value\n",
       "0      0    Rosie    20211126  notification_receive 2021-11-26 04:11:40.117          Android  Vietnam  firebase_event_origin                             fcm                         None                           None                            None\n",
       "0      0    Rosie    20211126  notification_receive 2021-11-26 04:11:40.117          Android  Vietnam           message_type                         display                         None                           None                            None\n",
       "1      1    Rosie    20211126  notification_receive 2021-11-26 07:37:29.662          Android  Vietnam  firebase_event_origin                             fcm                         None                           None                            None\n",
       "1      1    Rosie    20211126  notification_receive 2021-11-26 07:37:29.662          Android  Vietnam           message_type                         display                         None                           None                            None\n",
       "2      2  lucluck    20211126  notification_receive 2021-11-26 02:30:19.792          Android  Vietnam           message_type                         display                         None                           None                            None"
      ]
     },
     "metadata": {},
     "output_type": "display_data"
    }
   ],
   "source": [
    "display(d.head())"
   ]
  },
  {
   "cell_type": "code",
   "execution_count": 54,
   "metadata": {},
   "outputs": [
    {
     "data": {
      "text/plain": [
       "array(['notification_receive', 'screen_view', 'session_start',\n",
       "       'Android_system', 'app_exception', 'error', 'user_engagement',\n",
       "       'first_open', 'notification_foreground', 'app_remove',\n",
       "       'entrance_login', 'signup_phone_number', 'app_clear_data',\n",
       "       'notification_dismiss', 'create_parti_home', 'create_parti_start',\n",
       "       'create_parti_setting', 'create_parti_done', 'parti_mute_talk',\n",
       "       'parti_mute_music', 'notification_open', 'entrance_signup',\n",
       "       'parti_join', 'parti_leave', 'parti_unmute_talk'], dtype=object)"
      ]
     },
     "execution_count": 54,
     "metadata": {},
     "output_type": "execute_result"
    }
   ],
   "source": [
    "d[\"event_name\"].unique()"
   ]
  },
  {
   "cell_type": "code",
   "execution_count": null,
   "metadata": {},
   "outputs": [],
   "source": []
  }
 ],
 "metadata": {
  "interpreter": {
   "hash": "c2d762f2eedd54beec2218efa2e06cd5e8d652f22ec6193978ab4a3f1ba665cb"
  },
  "kernelspec": {
   "display_name": "Python 3.8.10 64-bit ('env': venv)",
   "language": "python",
   "name": "python3"
  },
  "language_info": {
   "codemirror_mode": {
    "name": "ipython",
    "version": 3
   },
   "file_extension": ".py",
   "mimetype": "text/x-python",
   "name": "python",
   "nbconvert_exporter": "python",
   "pygments_lexer": "ipython3",
   "version": "3.8.10"
  },
  "orig_nbformat": 4
 },
 "nbformat": 4,
 "nbformat_minor": 2
}
