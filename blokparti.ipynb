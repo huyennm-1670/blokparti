{
 "cells": [
  {
   "cell_type": "code",
   "execution_count": 1,
   "metadata": {},
   "outputs": [],
   "source": [
    "from cassandra.io.libevreactor import LibevConnection\n",
    "from cassandra.cluster import Cluster\n",
    "import pandas as pd\n",
    "from IPython.display import display\n",
    "pd.set_option('display.max_rows', 500)\n",
    "pd.set_option('display.max_columns', 500)\n",
    "pd.set_option('display.width', 1000)\n",
    "\n",
    "cluster = Cluster(connect_timeout=30)\n",
    "cluster.connection_class = LibevConnection\n",
    "session = cluster.connect()\n",
    "\n",
    "#keyspace: v10_stg for staging and v10_prod for prod\n",
    "session.set_keyspace('v10_prod')\n",
    "\n",
    "tables = [\"accounts\", \"users\", \"parties\", \"user_sessions\", \"party_user\", \"blocks\", \"block_user\"]\n",
    "\n",
    "for table in tables:\n",
    "    query = f\"SELECT * FROM {table}\"\n",
    "    rows = session.execute(query).all()\n",
    "    df = pd.DataFrame(rows)\n",
    "    # display(df)\n",
    "    df.to_csv(f\"{table}.csv\", encoding=\"utf-8\")\n",
    "\n",
    "cluster.shutdown()"
   ]
  },
  {
   "cell_type": "code",
   "execution_count": 2,
   "metadata": {},
   "outputs": [],
   "source": [
    "import numpy as np\n",
    "accounts = pd.read_csv(\"accounts.csv\", encoding=\"utf-8\")\n",
    "block_user = pd.read_csv(\"block_user.csv\", encoding=\"utf-8\")\n",
    "blocks = pd.read_csv(\"blocks.csv\", encoding=\"utf-8\")\n",
    "parties = pd.read_csv(\"parties.csv\", encoding=\"utf-8\", parse_dates=[\"begin_time\", \"end_time\", \"start_time\", \"updated_at\"])\n",
    "party_user = pd.read_csv(\"party_user.csv\", encoding=\"utf-8\", parse_dates=[\"created_at\", \"updated_at\"])\n",
    "users = pd.read_csv(\"users.csv\", encoding=\"utf-8\")\n",
    "user_sessions = pd.read_csv(\"user_sessions.csv\", encoding=\"utf-8\")\n"
   ]
  },
  {
   "cell_type": "code",
   "execution_count": 3,
   "metadata": {},
   "outputs": [
    {
     "data": {
      "text/plain": [
       "array(['ended', 'coming', 'ongoing'], dtype=object)"
      ]
     },
     "execution_count": 3,
     "metadata": {},
     "output_type": "execute_result"
    }
   ],
   "source": [
    "parties.status.unique()"
   ]
  },
  {
   "cell_type": "code",
   "execution_count": 62,
   "metadata": {},
   "outputs": [
    {
     "data": {
      "text/html": [
       "<div>\n",
       "<style scoped>\n",
       "    .dataframe tbody tr th:only-of-type {\n",
       "        vertical-align: middle;\n",
       "    }\n",
       "\n",
       "    .dataframe tbody tr th {\n",
       "        vertical-align: top;\n",
       "    }\n",
       "\n",
       "    .dataframe thead th {\n",
       "        text-align: right;\n",
       "    }\n",
       "</style>\n",
       "<table border=\"1\" class=\"dataframe\">\n",
       "  <thead>\n",
       "    <tr style=\"text-align: right;\">\n",
       "      <th></th>\n",
       "      <th>Unnamed: 0</th>\n",
       "      <th>id</th>\n",
       "      <th>account_id</th>\n",
       "      <th>device_uid</th>\n",
       "      <th>expires_at</th>\n",
       "      <th>user_id</th>\n",
       "    </tr>\n",
       "  </thead>\n",
       "  <tbody>\n",
       "    <tr>\n",
       "      <th>0</th>\n",
       "      <td>0</td>\n",
       "      <td>5cac0722-331b-11ec-9922-5adc50ad8e5b</td>\n",
       "      <td>12b5eb10-331b-11ec-bed2-9a010fca4d91</td>\n",
       "      <td>5bd1fda9e6078acd</td>\n",
       "      <td>2040-10-26 20:15:15.354</td>\n",
       "      <td>30ecc4be-331b-11ec-8b7c-4f667ee55425</td>\n",
       "    </tr>\n",
       "    <tr>\n",
       "      <th>1</th>\n",
       "      <td>1</td>\n",
       "      <td>5c0d4952-407c-11ec-ad47-a273009342b9</td>\n",
       "      <td>e5d1182c-323e-11ec-9992-5adc50ad8e5b</td>\n",
       "      <td>f5518b5d5a965c7b</td>\n",
       "      <td>2040-11-12 20:52:20.613</td>\n",
       "      <td>4b96e0f6-323f-11ec-b1ea-94bbbdaee87f</td>\n",
       "    </tr>\n",
       "    <tr>\n",
       "      <th>2</th>\n",
       "      <td>2</td>\n",
       "      <td>c1dc3922-3321-11ec-bed2-9a010fca4d91</td>\n",
       "      <td>c1d93510-3321-11ec-bed2-9a010fca4d91</td>\n",
       "      <td>5c91d5f7f73f4172</td>\n",
       "      <td>2040-10-26 21:01:02.100</td>\n",
       "      <td>NaN</td>\n",
       "    </tr>\n",
       "    <tr>\n",
       "      <th>3</th>\n",
       "      <td>3</td>\n",
       "      <td>66444430-4c3d-11ec-acc9-9a58024cb2de</td>\n",
       "      <td>1b0f6a64-3313-11ec-b92a-9a010fca4d91</td>\n",
       "      <td>c7dddaf2e30c33c3</td>\n",
       "      <td>2040-11-27 19:51:53.410</td>\n",
       "      <td>3d918522-3313-11ec-8329-feef32fc5b19</td>\n",
       "    </tr>\n",
       "    <tr>\n",
       "      <th>4</th>\n",
       "      <td>4</td>\n",
       "      <td>cdc30dc2-4bd3-11ec-ba2f-c2804d2a32b1</td>\n",
       "      <td>aa734a86-4bd2-11ec-9500-c687132219c8</td>\n",
       "      <td>739FDFBD-626A-4B30-A774-2658C8853299</td>\n",
       "      <td>2040-11-27 07:16:00.393</td>\n",
       "      <td>26b303f2-4bd3-11ec-87c1-e517be6df39b</td>\n",
       "    </tr>\n",
       "  </tbody>\n",
       "</table>\n",
       "</div>"
      ],
      "text/plain": [
       "   Unnamed: 0                                    id                            account_id                            device_uid               expires_at                               user_id\n",
       "0           0  5cac0722-331b-11ec-9922-5adc50ad8e5b  12b5eb10-331b-11ec-bed2-9a010fca4d91                      5bd1fda9e6078acd  2040-10-26 20:15:15.354  30ecc4be-331b-11ec-8b7c-4f667ee55425\n",
       "1           1  5c0d4952-407c-11ec-ad47-a273009342b9  e5d1182c-323e-11ec-9992-5adc50ad8e5b                      f5518b5d5a965c7b  2040-11-12 20:52:20.613  4b96e0f6-323f-11ec-b1ea-94bbbdaee87f\n",
       "2           2  c1dc3922-3321-11ec-bed2-9a010fca4d91  c1d93510-3321-11ec-bed2-9a010fca4d91                      5c91d5f7f73f4172  2040-10-26 21:01:02.100                                   NaN\n",
       "3           3  66444430-4c3d-11ec-acc9-9a58024cb2de  1b0f6a64-3313-11ec-b92a-9a010fca4d91                      c7dddaf2e30c33c3  2040-11-27 19:51:53.410  3d918522-3313-11ec-8329-feef32fc5b19\n",
       "4           4  cdc30dc2-4bd3-11ec-ba2f-c2804d2a32b1  aa734a86-4bd2-11ec-9500-c687132219c8  739FDFBD-626A-4B30-A774-2658C8853299  2040-11-27 07:16:00.393  26b303f2-4bd3-11ec-87c1-e517be6df39b"
      ]
     },
     "metadata": {},
     "output_type": "display_data"
    }
   ],
   "source": [
    "display(user_sessions.head())"
   ]
  },
  {
   "cell_type": "code",
   "execution_count": 4,
   "metadata": {},
   "outputs": [],
   "source": [
    "\n",
    "dff = pd.merge(parties[[\"id\", \"begin_time\", \"end_time\", \"creator_id\", \"start_time\", \"status\", \"updated_at\"]], party_user[[\"party_id\", \"user_id\", \"attendance_status\", \"created_at\", \"role\", \"updated_at\"]], how=\"outer\", left_on=\"id\", right_on=\"party_id\")\n",
    "dff.columns = ['party_id', 'party_begin_time', 'party_end_time', 'creator_id', 'party_start_time', 'party_status', 'party_updated_at', 'party_id_', 'user_id', 'attendance_status', 'user_created_at', 'role', 'user_updated_at']\n",
    "# display(dff.head())"
   ]
  },
  {
   "cell_type": "code",
   "execution_count": 5,
   "metadata": {},
   "outputs": [],
   "source": [
    "dff_ = pd.merge(dff, users[[\"id\", \"account_id\", \"username\"]], how=\"left\", left_on=\"user_id\", right_on=\"id\")\n",
    "dff_.columns = ['party_id', 'party_begin_time', 'party_end_time', 'creator_id', 'party_start_time', 'party_status', 'party_updated_at', 'party_id_', 'user_id', 'attendance_status', 'user_created_at', 'role', 'user_updated_at', 'user_id_', 'account_id', 'username']\n",
    "del dff_['party_id_']\n",
    "del dff_['user_id_']\n",
    "# display(dff_.head())\n"
   ]
  },
  {
   "cell_type": "code",
   "execution_count": 6,
   "metadata": {},
   "outputs": [],
   "source": [
    "dff_[\"party_duration\"] = dff_[\"party_updated_at\"] - dff_[\"party_begin_time\"]\n",
    "dff_[\"party_duration\"] = dff_[\"party_duration\"].dt.total_seconds()"
   ]
  },
  {
   "cell_type": "code",
   "execution_count": 7,
   "metadata": {},
   "outputs": [],
   "source": [
    "\n",
    "dff_[\"start_date\"] = dff_[\"party_begin_time\"].dt.date\n",
    "dff_ = dff_.sort_values([\"username\", \"start_date\", \"party_updated_at\",\"role\",\"user_updated_at\"])\n",
    "# display(dff_.head(20))"
   ]
  },
  {
   "cell_type": "code",
   "execution_count": 8,
   "metadata": {},
   "outputs": [],
   "source": [
    "dff_ = pd.merge(dff_, accounts[[\"id\", \"email\", \"phone\"]], how=\"left\", left_on=\"account_id\", right_on=\"id\")\n",
    "dff_.to_csv(\"dff_.csv\", encoding=\"utf-8\")"
   ]
  },
  {
   "cell_type": "code",
   "execution_count": null,
   "metadata": {},
   "outputs": [],
   "source": []
  }
 ],
 "metadata": {
  "interpreter": {
   "hash": "c2d762f2eedd54beec2218efa2e06cd5e8d652f22ec6193978ab4a3f1ba665cb"
  },
  "kernelspec": {
   "display_name": "Python 3.8.10 64-bit ('env': venv)",
   "language": "python",
   "name": "python3"
  },
  "language_info": {
   "codemirror_mode": {
    "name": "ipython",
    "version": 3
   },
   "file_extension": ".py",
   "mimetype": "text/x-python",
   "name": "python",
   "nbconvert_exporter": "python",
   "pygments_lexer": "ipython3",
   "version": "3.8.10"
  },
  "orig_nbformat": 4
 },
 "nbformat": 4,
 "nbformat_minor": 2
}
