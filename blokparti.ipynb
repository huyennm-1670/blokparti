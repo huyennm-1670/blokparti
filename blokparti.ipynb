{
 "cells": [
  {
   "cell_type": "code",
   "execution_count": 11,
   "metadata": {},
   "outputs": [],
   "source": [
    "import numpy as np\n",
    "import pandas as pd\n",
    "from IPython.display import display\n",
    "pd.set_option('display.max_rows', 500)\n",
    "pd.set_option('display.max_columns', 500)\n",
    "pd.set_option('display.width', 1000)\n",
    "\n",
    "accounts = pd.read_csv(\"csv_files/accounts.csv\", encoding=\"utf-8\", dtype={\"phone\": str})\n",
    "parties = pd.read_csv(\"csv_files/parties.csv\", encoding=\"utf-8\", parse_dates=[\"begin_time\", \"end_time\", \"start_time\", \"updated_at\"])\n",
    "party_user = pd.read_csv(\"csv_files/party_user.csv\", encoding=\"utf-8\", parse_dates=[\"created_at\", \"updated_at\"])\n",
    "users = pd.read_csv(\"csv_files/users.csv\", encoding=\"utf-8\")\n",
    "user_sessions = pd.read_csv(\"csv_files/user_sessions.csv\", encoding=\"utf-8\")\n",
    "party_played_items = pd.read_csv(\"csv_files/party_played_items.csv\", encoding=\"utf-8\", parse_dates=[\"played_at\", \"updated_at\"])\n",
    "messages = pd.read_csv(\"csv_files/messages.csv\", encoding=\"utf-8\", parse_dates=[\"created_at\"])"
   ]
  },
  {
   "cell_type": "code",
   "execution_count": 2,
   "metadata": {},
   "outputs": [
    {
     "data": {
      "text/html": [
       "<div>\n",
       "<style scoped>\n",
       "    .dataframe tbody tr th:only-of-type {\n",
       "        vertical-align: middle;\n",
       "    }\n",
       "\n",
       "    .dataframe tbody tr th {\n",
       "        vertical-align: top;\n",
       "    }\n",
       "\n",
       "    .dataframe thead th {\n",
       "        text-align: right;\n",
       "    }\n",
       "</style>\n",
       "<table border=\"1\" class=\"dataframe\">\n",
       "  <thead>\n",
       "    <tr style=\"text-align: right;\">\n",
       "      <th></th>\n",
       "      <th>party_id</th>\n",
       "      <th>user_id</th>\n",
       "      <th>user_party_created_at</th>\n",
       "      <th>role</th>\n",
       "      <th>user_party_updated_at</th>\n",
       "      <th>party_begin_time</th>\n",
       "      <th>party_end_time</th>\n",
       "      <th>party_updated_at</th>\n",
       "      <th>creator_id</th>\n",
       "    </tr>\n",
       "  </thead>\n",
       "  <tbody>\n",
       "    <tr>\n",
       "      <th>0</th>\n",
       "      <td>e466a9f2-5318-11ec-a8a2-8daeb074a1ae</td>\n",
       "      <td>73e6789c-41ca-11ec-a8b6-a4c0148ad650</td>\n",
       "      <td>2021-12-02 02:38:11.795</td>\n",
       "      <td>host</td>\n",
       "      <td>2021-12-02 02:38:44.193</td>\n",
       "      <td>2021-12-02 02:38:44.193</td>\n",
       "      <td>2021-12-02 02:46:51.076</td>\n",
       "      <td>2021-12-02 02:46:51.076</td>\n",
       "      <td>73e6789c-41ca-11ec-a8b6-a4c0148ad650</td>\n",
       "    </tr>\n",
       "    <tr>\n",
       "      <th>1</th>\n",
       "      <td>7d7fbcc4-4c92-11ec-8907-98f59b9e3b1b</td>\n",
       "      <td>ee248f30-4bd5-11ec-9b73-dd21c2b4b8f3</td>\n",
       "      <td>2021-11-23 19:20:59.615</td>\n",
       "      <td>host</td>\n",
       "      <td>2021-11-23 19:21:29.959</td>\n",
       "      <td>2021-11-23 19:23:30.736</td>\n",
       "      <td>NaT</td>\n",
       "      <td>2021-11-23 19:23:30.736</td>\n",
       "      <td>ee248f30-4bd5-11ec-9b73-dd21c2b4b8f3</td>\n",
       "    </tr>\n",
       "    <tr>\n",
       "      <th>2</th>\n",
       "      <td>7d7fbcc4-4c92-11ec-8907-98f59b9e3b1b</td>\n",
       "      <td>5e64bb62-4be0-11ec-aad5-eccb9bc4f187</td>\n",
       "      <td>2021-11-23 19:21:18.843</td>\n",
       "      <td>guest</td>\n",
       "      <td>2021-11-23 19:23:30.196</td>\n",
       "      <td>2021-11-23 19:23:30.736</td>\n",
       "      <td>NaT</td>\n",
       "      <td>2021-11-23 19:23:30.736</td>\n",
       "      <td>ee248f30-4bd5-11ec-9b73-dd21c2b4b8f3</td>\n",
       "    </tr>\n",
       "    <tr>\n",
       "      <th>3</th>\n",
       "      <td>61640b36-354e-11ec-b19b-1a6c70deb5be</td>\n",
       "      <td>fcd85ac4-354c-11ec-8a67-a069389d8a76</td>\n",
       "      <td>2021-10-25 04:45:29.936</td>\n",
       "      <td>host</td>\n",
       "      <td>2021-10-25 04:45:57.913</td>\n",
       "      <td>2021-10-25 04:56:42.993</td>\n",
       "      <td>NaT</td>\n",
       "      <td>2021-10-25 04:56:42.994</td>\n",
       "      <td>fcd85ac4-354c-11ec-8a67-a069389d8a76</td>\n",
       "    </tr>\n",
       "    <tr>\n",
       "      <th>4</th>\n",
       "      <td>579ab14e-4071-11ec-ad47-a273009342b9</td>\n",
       "      <td>2350f594-3287-11ec-9bc4-d0dbea1a278a</td>\n",
       "      <td>2021-11-08 08:53:28.692</td>\n",
       "      <td>host</td>\n",
       "      <td>2021-11-30 08:51:48.542</td>\n",
       "      <td>2021-11-30 08:51:48.542</td>\n",
       "      <td>2021-11-30 08:55:47.002</td>\n",
       "      <td>2021-11-30 08:56:12.812</td>\n",
       "      <td>2350f594-3287-11ec-9bc4-d0dbea1a278a</td>\n",
       "    </tr>\n",
       "  </tbody>\n",
       "</table>\n",
       "</div>"
      ],
      "text/plain": [
       "                               party_id                               user_id   user_party_created_at   role   user_party_updated_at        party_begin_time          party_end_time        party_updated_at                            creator_id\n",
       "0  e466a9f2-5318-11ec-a8a2-8daeb074a1ae  73e6789c-41ca-11ec-a8b6-a4c0148ad650 2021-12-02 02:38:11.795   host 2021-12-02 02:38:44.193 2021-12-02 02:38:44.193 2021-12-02 02:46:51.076 2021-12-02 02:46:51.076  73e6789c-41ca-11ec-a8b6-a4c0148ad650\n",
       "1  7d7fbcc4-4c92-11ec-8907-98f59b9e3b1b  ee248f30-4bd5-11ec-9b73-dd21c2b4b8f3 2021-11-23 19:20:59.615   host 2021-11-23 19:21:29.959 2021-11-23 19:23:30.736                     NaT 2021-11-23 19:23:30.736  ee248f30-4bd5-11ec-9b73-dd21c2b4b8f3\n",
       "2  7d7fbcc4-4c92-11ec-8907-98f59b9e3b1b  5e64bb62-4be0-11ec-aad5-eccb9bc4f187 2021-11-23 19:21:18.843  guest 2021-11-23 19:23:30.196 2021-11-23 19:23:30.736                     NaT 2021-11-23 19:23:30.736  ee248f30-4bd5-11ec-9b73-dd21c2b4b8f3\n",
       "3  61640b36-354e-11ec-b19b-1a6c70deb5be  fcd85ac4-354c-11ec-8a67-a069389d8a76 2021-10-25 04:45:29.936   host 2021-10-25 04:45:57.913 2021-10-25 04:56:42.993                     NaT 2021-10-25 04:56:42.994  fcd85ac4-354c-11ec-8a67-a069389d8a76\n",
       "4  579ab14e-4071-11ec-ad47-a273009342b9  2350f594-3287-11ec-9bc4-d0dbea1a278a 2021-11-08 08:53:28.692   host 2021-11-30 08:51:48.542 2021-11-30 08:51:48.542 2021-11-30 08:55:47.002 2021-11-30 08:56:12.812  2350f594-3287-11ec-9bc4-d0dbea1a278a"
      ]
     },
     "metadata": {},
     "output_type": "display_data"
    }
   ],
   "source": [
    "\n",
    "dff = pd.merge(party_user[[\"party_id\", \"user_id\", \"created_at\", \"role\", \"updated_at\"]], parties[[\"id\", \"begin_time\", \"end_time\", \"updated_at\", \"creator_id\"]], how=\"left\", left_on=\"party_id\", right_on=\"id\")\n",
    "del dff[\"id\"]\n",
    "dff.columns = ['party_id', 'user_id', 'user_party_created_at','role','user_party_updated_at', 'party_begin_time', 'party_end_time', 'party_updated_at', 'creator_id']\n",
    "display(dff.head())"
   ]
  },
  {
   "cell_type": "code",
   "execution_count": 3,
   "metadata": {},
   "outputs": [],
   "source": [
    "dff_ = pd.merge(dff, users[[\"id\", \"account_id\", \"username\"]], how=\"left\", left_on=\"user_id\", right_on=\"id\")\n",
    "del dff_['id']\n",
    "dff_ = pd.merge(dff_, users[[\"id\", \"account_id\", \"username\"]], how=\"left\", left_on=\"creator_id\", right_on=\"id\", suffixes=('_pu', '_creator'))"
   ]
  },
  {
   "cell_type": "markdown",
   "metadata": {},
   "source": []
  },
  {
   "cell_type": "code",
   "execution_count": 4,
   "metadata": {},
   "outputs": [],
   "source": [
    "def fill_begin_time(row):\n",
    "    if row[\"party_begin_time\"] is pd.NaT:\n",
    "        return row[\"user_party_created_at\"]\n",
    "    else:\n",
    "        return row[\"party_begin_time\"]\n",
    "\n",
    "def fill_end_time(row):\n",
    "    if row[\"party_end_time\"] is pd.NaT:\n",
    "        return row[\"user_party_updated_at\"]\n",
    "    else:\n",
    "        return row[\"party_end_time\"]\n",
    "\n",
    "dff_[\"party_begin_time\"] = dff_.apply(fill_begin_time, axis=1)\n",
    "dff_[\"party_end_time\"] = dff_.apply(fill_end_time, axis=1)"
   ]
  },
  {
   "cell_type": "code",
   "execution_count": 5,
   "metadata": {},
   "outputs": [],
   "source": [
    "\n",
    "dff_[\"party_start_date\"] = dff_[\"party_begin_time\"].dt.date\n",
    "# display(dff_.head(20))"
   ]
  },
  {
   "cell_type": "code",
   "execution_count": 6,
   "metadata": {},
   "outputs": [],
   "source": [
    "df_ = pd.merge(\n",
    "    dff_,\n",
    "    accounts[[\"id\", \"phone\"]],\n",
    "    how=\"left\",\n",
    "    left_on=\"account_id_pu\",\n",
    "    right_on=\"id\",\n",
    ")\n",
    "df_.to_csv(\"df_.csv\", encoding=\"utf-8\")"
   ]
  },
  {
   "cell_type": "code",
   "execution_count": null,
   "metadata": {},
   "outputs": [],
   "source": []
  }
 ],
 "metadata": {
  "interpreter": {
   "hash": "c2d762f2eedd54beec2218efa2e06cd5e8d652f22ec6193978ab4a3f1ba665cb"
  },
  "kernelspec": {
   "display_name": "Python 3.8.10 64-bit ('env': venv)",
   "language": "python",
   "name": "python3"
  },
  "language_info": {
   "codemirror_mode": {
    "name": "ipython",
    "version": 3
   },
   "file_extension": ".py",
   "mimetype": "text/x-python",
   "name": "python",
   "nbconvert_exporter": "python",
   "pygments_lexer": "ipython3",
   "version": "3.8.10"
  },
  "orig_nbformat": 4
 },
 "nbformat": 4,
 "nbformat_minor": 2
}
